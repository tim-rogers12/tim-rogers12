{
 "cells": [
  {
   "cell_type": "code",
   "execution_count": 5,
   "id": "ec9ce066",
   "metadata": {},
   "outputs": [],
   "source": [
    "import numpy as np\n",
    "import pandas as pd\n",
    "import seaborn as sns\n",
    "import math\n",
    "from ucimlrepo import fetch_ucirepo #to import dataset from machine learning depot\n",
    "from matplotlib import pyplot as plt\n",
    "%matplotlib inline"
   ]
  },
  {
   "cell_type": "code",
   "execution_count": 6,
   "id": "4faadfe8",
   "metadata": {},
   "outputs": [],
   "source": [
    "# fetch dataset \n",
    "bank_marketing = fetch_ucirepo(id=222) \n",
    "  \n",
    "# data (as pandas dataframes) \n",
    "X = bank_marketing.data.features \n",
    "y = bank_marketing.data.targets \n",
    "df = bank_marketing.data.original\n",
    "  \n"
   ]
  },
  {
   "cell_type": "code",
   "execution_count": 19,
   "id": "bd22145b",
   "metadata": {},
   "outputs": [
    {
     "data": {
      "text/plain": [
       "{'data': {'ids': None,\n",
       "  'features':        age           job   marital  education default  balance housing loan  \\\n",
       "  0       58    management   married   tertiary      no     2143     yes   no   \n",
       "  1       44    technician    single  secondary      no       29     yes   no   \n",
       "  2       33  entrepreneur   married  secondary      no        2     yes  yes   \n",
       "  3       47   blue-collar   married        NaN      no     1506     yes   no   \n",
       "  4       33           NaN    single        NaN      no        1      no   no   \n",
       "  ...    ...           ...       ...        ...     ...      ...     ...  ...   \n",
       "  45206   51    technician   married   tertiary      no      825      no   no   \n",
       "  45207   71       retired  divorced    primary      no     1729      no   no   \n",
       "  45208   72       retired   married  secondary      no     5715      no   no   \n",
       "  45209   57   blue-collar   married  secondary      no      668      no   no   \n",
       "  45210   37  entrepreneur   married  secondary      no     2971      no   no   \n",
       "  \n",
       "           contact  day_of_week month  duration  campaign  pdays  previous  \\\n",
       "  0            NaN            5   may       261         1     -1         0   \n",
       "  1            NaN            5   may       151         1     -1         0   \n",
       "  2            NaN            5   may        76         1     -1         0   \n",
       "  3            NaN            5   may        92         1     -1         0   \n",
       "  4            NaN            5   may       198         1     -1         0   \n",
       "  ...          ...          ...   ...       ...       ...    ...       ...   \n",
       "  45206   cellular           17   nov       977         3     -1         0   \n",
       "  45207   cellular           17   nov       456         2     -1         0   \n",
       "  45208   cellular           17   nov      1127         5    184         3   \n",
       "  45209  telephone           17   nov       508         4     -1         0   \n",
       "  45210   cellular           17   nov       361         2    188        11   \n",
       "  \n",
       "        poutcome  \n",
       "  0          NaN  \n",
       "  1          NaN  \n",
       "  2          NaN  \n",
       "  3          NaN  \n",
       "  4          NaN  \n",
       "  ...        ...  \n",
       "  45206      NaN  \n",
       "  45207      NaN  \n",
       "  45208  success  \n",
       "  45209      NaN  \n",
       "  45210    other  \n",
       "  \n",
       "  [45211 rows x 16 columns],\n",
       "  'targets':          y\n",
       "  0       no\n",
       "  1       no\n",
       "  2       no\n",
       "  3       no\n",
       "  4       no\n",
       "  ...    ...\n",
       "  45206  yes\n",
       "  45207  yes\n",
       "  45208  yes\n",
       "  45209   no\n",
       "  45210   no\n",
       "  \n",
       "  [45211 rows x 1 columns],\n",
       "  'original':        age           job   marital  education default  balance housing loan  \\\n",
       "  0       58    management   married   tertiary      no     2143     yes   no   \n",
       "  1       44    technician    single  secondary      no       29     yes   no   \n",
       "  2       33  entrepreneur   married  secondary      no        2     yes  yes   \n",
       "  3       47   blue-collar   married        NaN      no     1506     yes   no   \n",
       "  4       33           NaN    single        NaN      no        1      no   no   \n",
       "  ...    ...           ...       ...        ...     ...      ...     ...  ...   \n",
       "  45206   51    technician   married   tertiary      no      825      no   no   \n",
       "  45207   71       retired  divorced    primary      no     1729      no   no   \n",
       "  45208   72       retired   married  secondary      no     5715      no   no   \n",
       "  45209   57   blue-collar   married  secondary      no      668      no   no   \n",
       "  45210   37  entrepreneur   married  secondary      no     2971      no   no   \n",
       "  \n",
       "           contact  day_of_week month  duration  campaign  pdays  previous  \\\n",
       "  0            NaN            5   may       261         1     -1         0   \n",
       "  1            NaN            5   may       151         1     -1         0   \n",
       "  2            NaN            5   may        76         1     -1         0   \n",
       "  3            NaN            5   may        92         1     -1         0   \n",
       "  4            NaN            5   may       198         1     -1         0   \n",
       "  ...          ...          ...   ...       ...       ...    ...       ...   \n",
       "  45206   cellular           17   nov       977         3     -1         0   \n",
       "  45207   cellular           17   nov       456         2     -1         0   \n",
       "  45208   cellular           17   nov      1127         5    184         3   \n",
       "  45209  telephone           17   nov       508         4     -1         0   \n",
       "  45210   cellular           17   nov       361         2    188        11   \n",
       "  \n",
       "        poutcome    y  \n",
       "  0          NaN   no  \n",
       "  1          NaN   no  \n",
       "  2          NaN   no  \n",
       "  3          NaN   no  \n",
       "  4          NaN   no  \n",
       "  ...        ...  ...  \n",
       "  45206      NaN  yes  \n",
       "  45207      NaN  yes  \n",
       "  45208  success  yes  \n",
       "  45209      NaN   no  \n",
       "  45210    other   no  \n",
       "  \n",
       "  [45211 rows x 17 columns],\n",
       "  'headers': Index(['age', 'job', 'marital', 'education', 'default', 'balance', 'housing',\n",
       "         'loan', 'contact', 'day_of_week', 'month', 'duration', 'campaign',\n",
       "         'pdays', 'previous', 'poutcome', 'y'],\n",
       "        dtype='object')},\n",
       " 'metadata': {'uci_id': 222,\n",
       "  'name': 'Bank Marketing',\n",
       "  'repository_url': 'https://archive.ics.uci.edu/dataset/222/bank+marketing',\n",
       "  'data_url': 'https://archive.ics.uci.edu/static/public/222/data.csv',\n",
       "  'abstract': 'The data is related with direct marketing campaigns (phone calls) of a Portuguese banking institution. The classification goal is to predict if the client will subscribe a term deposit (variable y).',\n",
       "  'area': 'Business',\n",
       "  'tasks': ['Classification'],\n",
       "  'characteristics': ['Multivariate'],\n",
       "  'num_instances': 45211,\n",
       "  'num_features': 16,\n",
       "  'feature_types': ['Categorical', 'Integer'],\n",
       "  'demographics': ['Age', 'Occupation', 'Marital Status', 'Education Level'],\n",
       "  'target_col': ['y'],\n",
       "  'index_col': None,\n",
       "  'has_missing_values': 'yes',\n",
       "  'missing_values_symbol': 'NaN',\n",
       "  'year_of_dataset_creation': 2014,\n",
       "  'last_updated': 'Fri Aug 18 2023',\n",
       "  'dataset_doi': '10.24432/C5K306',\n",
       "  'creators': ['S. Moro', 'P. Rita', 'P. Cortez'],\n",
       "  'intro_paper': {'title': 'A data-driven approach to predict the success of bank telemarketing',\n",
       "   'authors': 'Sérgio Moro, P. Cortez, P. Rita',\n",
       "   'published_in': 'Decision Support Systems',\n",
       "   'year': 2014,\n",
       "   'url': 'https://www.semanticscholar.org/paper/cab86052882d126d43f72108c6cb41b295cc8a9e',\n",
       "   'doi': '10.1016/j.dss.2014.03.001'},\n",
       "  'additional_info': {'summary': \"The data is related with direct marketing campaigns of a Portuguese banking institution. The marketing campaigns were based on phone calls. Often, more than one contact to the same client was required, in order to access if the product (bank term deposit) would be ('yes') or not ('no') subscribed. \\n\\nThere are four datasets: \\n1) bank-additional-full.csv with all examples (41188) and 20 inputs, ordered by date (from May 2008 to November 2010), very close to the data analyzed in [Moro et al., 2014]\\n2) bank-additional.csv with 10% of the examples (4119), randomly selected from 1), and 20 inputs.\\n3) bank-full.csv with all examples and 17 inputs, ordered by date (older version of this dataset with less inputs). \\n4) bank.csv with 10% of the examples and 17 inputs, randomly selected from 3 (older version of this dataset with less inputs). \\nThe smallest datasets are provided to test more computationally demanding machine learning algorithms (e.g., SVM). \\n\\nThe classification goal is to predict if the client will subscribe (yes/no) a term deposit (variable y).\",\n",
       "   'purpose': None,\n",
       "   'funded_by': None,\n",
       "   'instances_represent': None,\n",
       "   'recommended_data_splits': None,\n",
       "   'sensitive_data': None,\n",
       "   'preprocessing_description': None,\n",
       "   'variable_info': 'Input variables:\\n   # bank client data:\\n   1 - age (numeric)\\n   2 - job : type of job (categorical: \"admin.\",\"unknown\",\"unemployed\",\"management\",\"housemaid\",\"entrepreneur\",\"student\",\\n                                       \"blue-collar\",\"self-employed\",\"retired\",\"technician\",\"services\") \\n   3 - marital : marital status (categorical: \"married\",\"divorced\",\"single\"; note: \"divorced\" means divorced or widowed)\\n   4 - education (categorical: \"unknown\",\"secondary\",\"primary\",\"tertiary\")\\n   5 - default: has credit in default? (binary: \"yes\",\"no\")\\n   6 - balance: average yearly balance, in euros (numeric) \\n   7 - housing: has housing loan? (binary: \"yes\",\"no\")\\n   8 - loan: has personal loan? (binary: \"yes\",\"no\")\\n   # related with the last contact of the current campaign:\\n   9 - contact: contact communication type (categorical: \"unknown\",\"telephone\",\"cellular\") \\n  10 - day: last contact day of the month (numeric)\\n  11 - month: last contact month of year (categorical: \"jan\", \"feb\", \"mar\", ..., \"nov\", \"dec\")\\n  12 - duration: last contact duration, in seconds (numeric)\\n   # other attributes:\\n  13 - campaign: number of contacts performed during this campaign and for this client (numeric, includes last contact)\\n  14 - pdays: number of days that passed by after the client was last contacted from a previous campaign (numeric, -1 means client was not previously contacted)\\n  15 - previous: number of contacts performed before this campaign and for this client (numeric)\\n  16 - poutcome: outcome of the previous marketing campaign (categorical: \"unknown\",\"other\",\"failure\",\"success\")\\n\\n  Output variable (desired target):\\n  17 - y - has the client subscribed a term deposit? (binary: \"yes\",\"no\")\\n',\n",
       "   'citation': None}},\n",
       " 'variables':            name     role         type      demographic  \\\n",
       " 0           age  Feature      Integer              Age   \n",
       " 1           job  Feature  Categorical       Occupation   \n",
       " 2       marital  Feature  Categorical   Marital Status   \n",
       " 3     education  Feature  Categorical  Education Level   \n",
       " 4       default  Feature       Binary             None   \n",
       " 5       balance  Feature      Integer             None   \n",
       " 6       housing  Feature       Binary             None   \n",
       " 7          loan  Feature       Binary             None   \n",
       " 8       contact  Feature  Categorical             None   \n",
       " 9   day_of_week  Feature         Date             None   \n",
       " 10        month  Feature         Date             None   \n",
       " 11     duration  Feature      Integer             None   \n",
       " 12     campaign  Feature      Integer             None   \n",
       " 13        pdays  Feature      Integer             None   \n",
       " 14     previous  Feature      Integer             None   \n",
       " 15     poutcome  Feature  Categorical             None   \n",
       " 16            y   Target       Binary             None   \n",
       " \n",
       "                                           description  units missing_values  \n",
       " 0                                                None   None             no  \n",
       " 1   type of job (categorical: 'admin.','blue-colla...   None             no  \n",
       " 2   marital status (categorical: 'divorced','marri...   None             no  \n",
       " 3   (categorical: 'basic.4y','basic.6y','basic.9y'...   None             no  \n",
       " 4                              has credit in default?   None             no  \n",
       " 5                              average yearly balance  euros             no  \n",
       " 6                                   has housing loan?   None             no  \n",
       " 7                                  has personal loan?   None             no  \n",
       " 8   contact communication type (categorical: 'cell...   None            yes  \n",
       " 9                        last contact day of the week   None             no  \n",
       " 10  last contact month of year (categorical: 'jan'...   None             no  \n",
       " 11   last contact duration, in seconds (numeric). ...   None             no  \n",
       " 12  number of contacts performed during this campa...   None             no  \n",
       " 13  number of days that passed by after the client...   None            yes  \n",
       " 14  number of contacts performed before this campa...   None             no  \n",
       " 15  outcome of the previous marketing campaign (ca...   None            yes  \n",
       " 16          has the client subscribed a term deposit?   None             no  }"
      ]
     },
     "execution_count": 19,
     "metadata": {},
     "output_type": "execute_result"
    }
   ],
   "source": [
    "bank_marketing"
   ]
  },
  {
   "cell_type": "markdown",
   "id": "cb0956f7",
   "metadata": {},
   "source": [
    "https://archive.ics.uci.edu/dataset/222/bank+marketing\n",
    "\n",
    "variable names \n",
    "\n",
    "Input variables:\n",
    "Bank Data\n",
    "   1 - age (numeric)\n",
    "   2 - job : type of job (categorical: \"admin.\",\"unknown\",\"unemployed\",\"management\",\"housemaid\",\"entrepreneur\",\"student\",\n",
    "                                       \"blue-collar\",\"self-employed\",\"retired\",\"technician\",\"services\") \n",
    "   3 - marital : marital status (categorical: \"married\",\"divorced\",\"single\"; note: \"divorced\" means divorced or widowed)\n",
    "   4 - education (categorical: \"unknown\",\"secondary\",\"primary\",\"tertiary\")\n",
    "   5 - default: has credit in default? (binary: \"yes\",\"no\")\n",
    "   6 - balance: average yearly balance, in euros (numeric) \n",
    "   7 - housing: has housing loan? (binary: \"yes\",\"no\")\n",
    "   8 - loan: has personal loan? (binary: \"yes\",\"no\")\n",
    "related with the last contact of the current campaign:\n",
    "   9 - contact: contact communication type (categorical: \"unknown\",\"telephone\",\"cellular\") \n",
    "  10 - day: last contact day of the month (numeric)\n",
    "  11 - month: last contact month of year (categorical: \"jan\", \"feb\", \"mar\", ..., \"nov\", \"dec\")\n",
    "  12 - duration: last contact duration, in seconds (numeric)\n",
    " other attributes:\n",
    "  13 - campaign: number of contacts performed during this campaign and for this client (numeric, includes last contact)\n",
    "  14 - pdays: number of days that passed by after the client was last contacted from a previous campaign (numeric, -1 means client was not previously contacted)\n",
    "  15 - previous: number of contacts performed before this campaign and for this client (numeric)\n",
    "  16 - poutcome: outcome of the previous marketing campaign (categorical: \"unknown\",\"other\",\"failure\",\"success\")\n",
    "\n",
    "  Output variable (desired target):\n",
    "  17 - y - has the client subscribed a term deposit? (binary: \"yes\",\"no\")"
   ]
  },
  {
   "cell_type": "markdown",
   "id": "bec2b847",
   "metadata": {},
   "source": [
    "# Summary\n",
    "Introduction:\n",
    "\n",
    "The Bank Marketing dataset is data related to direct marketing campaigns of a Portugues Banking Company. It is a commonly accessed dataset from the UC Irvine Machine Learning Repository. Each row describes a customer of the bank. It has 16 features (columns) which describe the customer most importantly if they subscribed to a long-term deposit account. \n",
    "In this project, our imaginary stakeholders would be looking to gain investors into long-term deposit accounts. Our stakeholders interest would be to be able to correctly predict the behavior of their customers such that they might maximize their profits in subscriptions to long-term accounts. I would sell myself on being capable of contributing to that goal.\n"
   ]
  },
  {
   "cell_type": "code",
   "execution_count": 20,
   "id": "5e463907",
   "metadata": {},
   "outputs": [
    {
     "data": {
      "text/html": [
       "<div>\n",
       "<style scoped>\n",
       "    .dataframe tbody tr th:only-of-type {\n",
       "        vertical-align: middle;\n",
       "    }\n",
       "\n",
       "    .dataframe tbody tr th {\n",
       "        vertical-align: top;\n",
       "    }\n",
       "\n",
       "    .dataframe thead th {\n",
       "        text-align: right;\n",
       "    }\n",
       "</style>\n",
       "<table border=\"1\" class=\"dataframe\">\n",
       "  <thead>\n",
       "    <tr style=\"text-align: right;\">\n",
       "      <th></th>\n",
       "      <th>age</th>\n",
       "      <th>job</th>\n",
       "      <th>marital</th>\n",
       "      <th>education</th>\n",
       "      <th>default</th>\n",
       "      <th>balance</th>\n",
       "      <th>housing</th>\n",
       "      <th>loan</th>\n",
       "      <th>contact</th>\n",
       "      <th>day_of_week</th>\n",
       "      <th>month</th>\n",
       "      <th>duration</th>\n",
       "      <th>campaign</th>\n",
       "      <th>pdays</th>\n",
       "      <th>previous</th>\n",
       "      <th>poutcome</th>\n",
       "      <th>y</th>\n",
       "    </tr>\n",
       "  </thead>\n",
       "  <tbody>\n",
       "    <tr>\n",
       "      <th>0</th>\n",
       "      <td>58</td>\n",
       "      <td>management</td>\n",
       "      <td>married</td>\n",
       "      <td>tertiary</td>\n",
       "      <td>no</td>\n",
       "      <td>2143</td>\n",
       "      <td>yes</td>\n",
       "      <td>no</td>\n",
       "      <td>NaN</td>\n",
       "      <td>5</td>\n",
       "      <td>may</td>\n",
       "      <td>261</td>\n",
       "      <td>1</td>\n",
       "      <td>-1</td>\n",
       "      <td>0</td>\n",
       "      <td>NaN</td>\n",
       "      <td>no</td>\n",
       "    </tr>\n",
       "    <tr>\n",
       "      <th>1</th>\n",
       "      <td>44</td>\n",
       "      <td>technician</td>\n",
       "      <td>single</td>\n",
       "      <td>secondary</td>\n",
       "      <td>no</td>\n",
       "      <td>29</td>\n",
       "      <td>yes</td>\n",
       "      <td>no</td>\n",
       "      <td>NaN</td>\n",
       "      <td>5</td>\n",
       "      <td>may</td>\n",
       "      <td>151</td>\n",
       "      <td>1</td>\n",
       "      <td>-1</td>\n",
       "      <td>0</td>\n",
       "      <td>NaN</td>\n",
       "      <td>no</td>\n",
       "    </tr>\n",
       "    <tr>\n",
       "      <th>2</th>\n",
       "      <td>33</td>\n",
       "      <td>entrepreneur</td>\n",
       "      <td>married</td>\n",
       "      <td>secondary</td>\n",
       "      <td>no</td>\n",
       "      <td>2</td>\n",
       "      <td>yes</td>\n",
       "      <td>yes</td>\n",
       "      <td>NaN</td>\n",
       "      <td>5</td>\n",
       "      <td>may</td>\n",
       "      <td>76</td>\n",
       "      <td>1</td>\n",
       "      <td>-1</td>\n",
       "      <td>0</td>\n",
       "      <td>NaN</td>\n",
       "      <td>no</td>\n",
       "    </tr>\n",
       "    <tr>\n",
       "      <th>3</th>\n",
       "      <td>47</td>\n",
       "      <td>blue-collar</td>\n",
       "      <td>married</td>\n",
       "      <td>NaN</td>\n",
       "      <td>no</td>\n",
       "      <td>1506</td>\n",
       "      <td>yes</td>\n",
       "      <td>no</td>\n",
       "      <td>NaN</td>\n",
       "      <td>5</td>\n",
       "      <td>may</td>\n",
       "      <td>92</td>\n",
       "      <td>1</td>\n",
       "      <td>-1</td>\n",
       "      <td>0</td>\n",
       "      <td>NaN</td>\n",
       "      <td>no</td>\n",
       "    </tr>\n",
       "    <tr>\n",
       "      <th>4</th>\n",
       "      <td>33</td>\n",
       "      <td>NaN</td>\n",
       "      <td>single</td>\n",
       "      <td>NaN</td>\n",
       "      <td>no</td>\n",
       "      <td>1</td>\n",
       "      <td>no</td>\n",
       "      <td>no</td>\n",
       "      <td>NaN</td>\n",
       "      <td>5</td>\n",
       "      <td>may</td>\n",
       "      <td>198</td>\n",
       "      <td>1</td>\n",
       "      <td>-1</td>\n",
       "      <td>0</td>\n",
       "      <td>NaN</td>\n",
       "      <td>no</td>\n",
       "    </tr>\n",
       "    <tr>\n",
       "      <th>5</th>\n",
       "      <td>35</td>\n",
       "      <td>management</td>\n",
       "      <td>married</td>\n",
       "      <td>tertiary</td>\n",
       "      <td>no</td>\n",
       "      <td>231</td>\n",
       "      <td>yes</td>\n",
       "      <td>no</td>\n",
       "      <td>NaN</td>\n",
       "      <td>5</td>\n",
       "      <td>may</td>\n",
       "      <td>139</td>\n",
       "      <td>1</td>\n",
       "      <td>-1</td>\n",
       "      <td>0</td>\n",
       "      <td>NaN</td>\n",
       "      <td>no</td>\n",
       "    </tr>\n",
       "    <tr>\n",
       "      <th>6</th>\n",
       "      <td>28</td>\n",
       "      <td>management</td>\n",
       "      <td>single</td>\n",
       "      <td>tertiary</td>\n",
       "      <td>no</td>\n",
       "      <td>447</td>\n",
       "      <td>yes</td>\n",
       "      <td>yes</td>\n",
       "      <td>NaN</td>\n",
       "      <td>5</td>\n",
       "      <td>may</td>\n",
       "      <td>217</td>\n",
       "      <td>1</td>\n",
       "      <td>-1</td>\n",
       "      <td>0</td>\n",
       "      <td>NaN</td>\n",
       "      <td>no</td>\n",
       "    </tr>\n",
       "    <tr>\n",
       "      <th>7</th>\n",
       "      <td>42</td>\n",
       "      <td>entrepreneur</td>\n",
       "      <td>divorced</td>\n",
       "      <td>tertiary</td>\n",
       "      <td>yes</td>\n",
       "      <td>2</td>\n",
       "      <td>yes</td>\n",
       "      <td>no</td>\n",
       "      <td>NaN</td>\n",
       "      <td>5</td>\n",
       "      <td>may</td>\n",
       "      <td>380</td>\n",
       "      <td>1</td>\n",
       "      <td>-1</td>\n",
       "      <td>0</td>\n",
       "      <td>NaN</td>\n",
       "      <td>no</td>\n",
       "    </tr>\n",
       "    <tr>\n",
       "      <th>8</th>\n",
       "      <td>58</td>\n",
       "      <td>retired</td>\n",
       "      <td>married</td>\n",
       "      <td>primary</td>\n",
       "      <td>no</td>\n",
       "      <td>121</td>\n",
       "      <td>yes</td>\n",
       "      <td>no</td>\n",
       "      <td>NaN</td>\n",
       "      <td>5</td>\n",
       "      <td>may</td>\n",
       "      <td>50</td>\n",
       "      <td>1</td>\n",
       "      <td>-1</td>\n",
       "      <td>0</td>\n",
       "      <td>NaN</td>\n",
       "      <td>no</td>\n",
       "    </tr>\n",
       "    <tr>\n",
       "      <th>9</th>\n",
       "      <td>43</td>\n",
       "      <td>technician</td>\n",
       "      <td>single</td>\n",
       "      <td>secondary</td>\n",
       "      <td>no</td>\n",
       "      <td>593</td>\n",
       "      <td>yes</td>\n",
       "      <td>no</td>\n",
       "      <td>NaN</td>\n",
       "      <td>5</td>\n",
       "      <td>may</td>\n",
       "      <td>55</td>\n",
       "      <td>1</td>\n",
       "      <td>-1</td>\n",
       "      <td>0</td>\n",
       "      <td>NaN</td>\n",
       "      <td>no</td>\n",
       "    </tr>\n",
       "  </tbody>\n",
       "</table>\n",
       "</div>"
      ],
      "text/plain": [
       "   age           job   marital  education default  balance housing loan  \\\n",
       "0   58    management   married   tertiary      no     2143     yes   no   \n",
       "1   44    technician    single  secondary      no       29     yes   no   \n",
       "2   33  entrepreneur   married  secondary      no        2     yes  yes   \n",
       "3   47   blue-collar   married        NaN      no     1506     yes   no   \n",
       "4   33           NaN    single        NaN      no        1      no   no   \n",
       "5   35    management   married   tertiary      no      231     yes   no   \n",
       "6   28    management    single   tertiary      no      447     yes  yes   \n",
       "7   42  entrepreneur  divorced   tertiary     yes        2     yes   no   \n",
       "8   58       retired   married    primary      no      121     yes   no   \n",
       "9   43    technician    single  secondary      no      593     yes   no   \n",
       "\n",
       "  contact  day_of_week month  duration  campaign  pdays  previous poutcome   y  \n",
       "0     NaN            5   may       261         1     -1         0      NaN  no  \n",
       "1     NaN            5   may       151         1     -1         0      NaN  no  \n",
       "2     NaN            5   may        76         1     -1         0      NaN  no  \n",
       "3     NaN            5   may        92         1     -1         0      NaN  no  \n",
       "4     NaN            5   may       198         1     -1         0      NaN  no  \n",
       "5     NaN            5   may       139         1     -1         0      NaN  no  \n",
       "6     NaN            5   may       217         1     -1         0      NaN  no  \n",
       "7     NaN            5   may       380         1     -1         0      NaN  no  \n",
       "8     NaN            5   may        50         1     -1         0      NaN  no  \n",
       "9     NaN            5   may        55         1     -1         0      NaN  no  "
      ]
     },
     "execution_count": 20,
     "metadata": {},
     "output_type": "execute_result"
    }
   ],
   "source": [
    "df.head(10)"
   ]
  },
  {
   "cell_type": "code",
   "execution_count": 21,
   "id": "062247f1",
   "metadata": {},
   "outputs": [
    {
     "name": "stdout",
     "output_type": "stream",
     "text": [
      "<class 'pandas.core.frame.DataFrame'>\n",
      "RangeIndex: 45211 entries, 0 to 45210\n",
      "Data columns (total 17 columns):\n",
      " #   Column       Non-Null Count  Dtype \n",
      "---  ------       --------------  ----- \n",
      " 0   age          45211 non-null  int64 \n",
      " 1   job          44923 non-null  object\n",
      " 2   marital      45211 non-null  object\n",
      " 3   education    43354 non-null  object\n",
      " 4   default      45211 non-null  object\n",
      " 5   balance      45211 non-null  int64 \n",
      " 6   housing      45211 non-null  object\n",
      " 7   loan         45211 non-null  object\n",
      " 8   contact      32191 non-null  object\n",
      " 9   day_of_week  45211 non-null  int64 \n",
      " 10  month        45211 non-null  object\n",
      " 11  duration     45211 non-null  int64 \n",
      " 12  campaign     45211 non-null  int64 \n",
      " 13  pdays        45211 non-null  int64 \n",
      " 14  previous     45211 non-null  int64 \n",
      " 15  poutcome     8252 non-null   object\n",
      " 16  y            45211 non-null  object\n",
      "dtypes: int64(7), object(10)\n",
      "memory usage: 5.9+ MB\n"
     ]
    }
   ],
   "source": [
    "df.info()"
   ]
  },
  {
   "cell_type": "code",
   "execution_count": 7,
   "id": "309b92a4",
   "metadata": {},
   "outputs": [
    {
     "data": {
      "text/plain": [
       "(45211, 17)"
      ]
     },
     "execution_count": 7,
     "metadata": {},
     "output_type": "execute_result"
    }
   ],
   "source": [
    "df.shape\n",
    "\n"
   ]
  },
  {
   "cell_type": "markdown",
   "id": "ec72c6a3",
   "metadata": {},
   "source": [
    "# What this tells us\n",
    "\n",
    "This informs us that the size of the data set is 45,211 rows with 17 columns. The dependent variable we are analyzing (whether or not they subscribed to a long term account) is y. The other variables are various characteristics about the customer and the campaign that engaged them."
   ]
  },
  {
   "cell_type": "code",
   "execution_count": 9,
   "id": "83295de5",
   "metadata": {},
   "outputs": [
    {
     "data": {
      "text/plain": [
       "age                0\n",
       "job              288\n",
       "marital            0\n",
       "education       1857\n",
       "default            0\n",
       "balance            0\n",
       "housing            0\n",
       "loan               0\n",
       "contact        13020\n",
       "day_of_week        0\n",
       "month              0\n",
       "duration           0\n",
       "campaign           0\n",
       "pdays              0\n",
       "previous           0\n",
       "poutcome       36959\n",
       "y                  0\n",
       "dtype: int64"
      ]
     },
     "execution_count": 9,
     "metadata": {},
     "output_type": "execute_result"
    }
   ],
   "source": [
    "df.isna().sum()"
   ]
  },
  {
   "cell_type": "markdown",
   "id": "eb01229a",
   "metadata": {},
   "source": [
    "# NA analysis\n",
    "This informs us that Job, Education, Contact, and Outcome of Previous Campaign are the only columns that need to factor in NAs. The NAs in Previous Outcome are probably cases where there was no previous contact. Contact (which is contact type) probably has something to do with if the client was previously contacted. Job and Education will need further analysis. "
   ]
  },
  {
   "cell_type": "code",
   "execution_count": 8,
   "id": "31cf9a76",
   "metadata": {},
   "outputs": [
    {
     "name": "stderr",
     "output_type": "stream",
     "text": [
      "C:\\Users\\Tim\\anaconda3\\NewAnaconda\\Lib\\site-packages\\seaborn\\_oldcore.py:1119: FutureWarning: use_inf_as_na option is deprecated and will be removed in a future version. Convert inf values to NaN before operating instead.\n",
      "  with pd.option_context('mode.use_inf_as_na', True):\n"
     ]
    },
    {
     "data": {
      "image/png": "[encoded data removed]",
      "text/plain": [
       "<Figure size 640x480 with 1 Axes>"
      ]
     },
     "metadata": {},
     "output_type": "display_data"
    }
   ],
   "source": [
    "ax = sns.histplot(df['y'], stat = 'count', shrink=.8)\n",
    "\n",
    "ax.set(title = 'Count of Marketing Success')\n",
    "\n",
    "for p in ax.patches:\n",
    "    height = p.get_height()\n",
    "    ax.text(x = p.get_x() + (p.get_width()/2),\n",
    "    y = height + 0.2,\n",
    "    s = '{:.0f}'.format(height),\n",
    "    ha = 'center')      "
   ]
  },
  {
   "cell_type": "markdown",
   "id": "85babfeb",
   "metadata": {},
   "source": [
    "# What this tells us\n",
    "\n",
    "The majority of marketing touches failed.\n",
    "We are looking at about 5,200 successes\n",
    "This gives us a small percentage to look at however it is enought to draw definitive conclusions"
   ]
  },
  {
   "cell_type": "code",
   "execution_count": 34,
   "id": "32e5810f",
   "metadata": {},
   "outputs": [
    {
     "name": "stderr",
     "output_type": "stream",
     "text": [
      "C:\\Users\\flame\\AppData\\Local\\Temp\\ipykernel_24172\\2136790087.py:5: UserWarning: FixedFormatter should only be used together with FixedLocator\n",
      "  ax.set_xticklabels(ax.get_xticklabels(), rotation=40, ha=\"right\")\n"
     ]
    },
    {
     "data": {
      "image/png": "[encoded data removed]",
      "text/plain": [
       "<Figure size 640x480 with 1 Axes>"
      ]
     },
     "metadata": {},
     "output_type": "display_data"
    },
    {
     "data": {
      "text/plain": [
       "<Figure size 800x600 with 0 Axes>"
      ]
     },
     "metadata": {},
     "output_type": "display_data"
    }
   ],
   "source": [
    "ax = sns.histplot(df['job'], stat = 'count', shrink=.9)\n",
    "\n",
    "ax.set(title = 'Count of Jobs')\n",
    "plt.figure(figsize=(8,6))\n",
    "ax.set_xticklabels(ax.get_xticklabels(), rotation=40, ha=\"right\")\n",
    "plt.tight_layout()\n",
    "for p in ax.patches:\n",
    "    height = p.get_height()\n",
    "    ax.text(x = p.get_x() + (p.get_width()/2),\n",
    "    y = height + 0.2,\n",
    "    s = '{:.0f}'.format(height),\n",
    "    ha = 'center')     "
   ]
  },
  {
   "cell_type": "markdown",
   "id": "3e416d6b",
   "metadata": {},
   "source": [
    "# What this tells us\n",
    "\n",
    "This shows the breakdown of job category. It shows that there are 11 categories of job (not including NA).\n",
    "The most accounts are blue collar, technician, and management."
   ]
  },
  {
   "cell_type": "markdown",
   "id": "5a914c7e",
   "metadata": {},
   "source": [
    "# Breakdown of accounts"
   ]
  },
  {
   "cell_type": "code",
   "execution_count": 71,
   "id": "88351bdd",
   "metadata": {},
   "outputs": [
    {
     "data": {
      "text/plain": [
       "<AxesSubplot:>"
      ]
     },
     "execution_count": 71,
     "metadata": {},
     "output_type": "execute_result"
    },
    {
     "data": {
      "image/png": "[encoded data removed]",
      "text/plain": [
       "<Figure size 432x288 with 1 Axes>"
      ]
     },
     "metadata": {
      "needs_background": "light"
     },
     "output_type": "display_data"
    }
   ],
   "source": [
    "df['balance'].hist(bins = 50)"
   ]
  },
  {
   "cell_type": "code",
   "execution_count": 48,
   "id": "5b119452",
   "metadata": {},
   "outputs": [
    {
     "data": {
      "text/plain": [
       "count     45211.000000\n",
       "mean       1362.272058\n",
       "std        3044.765829\n",
       "min       -8019.000000\n",
       "25%          72.000000\n",
       "50%         448.000000\n",
       "75%        1428.000000\n",
       "max      102127.000000\n",
       "Name: balance, dtype: float64"
      ]
     },
     "execution_count": 48,
     "metadata": {},
     "output_type": "execute_result"
    }
   ],
   "source": [
    "df['balance'].describe()"
   ]
  },
  {
   "cell_type": "code",
   "execution_count": 25,
   "id": "4b1f33c3",
   "metadata": {},
   "outputs": [
    {
     "name": "stderr",
     "output_type": "stream",
     "text": [
      "C:\\Users\\Tim\\anaconda3\\lib\\site-packages\\seaborn\\_decorators.py:36: FutureWarning: Pass the following variable as a keyword arg: x. From version 0.12, the only valid positional argument will be `data`, and passing other arguments without an explicit keyword will result in an error or misinterpretation.\n",
      "  warnings.warn(\n"
     ]
    },
    {
     "data": {
      "text/plain": [
       "<AxesSubplot:xlabel='balance'>"
      ]
     },
     "execution_count": 25,
     "metadata": {},
     "output_type": "execute_result"
    },
    {
     "data": {
      "image/png": "[encoded data removed]",
      "text/plain": [
       "<Figure size 432x288 with 1 Axes>"
      ]
     },
     "metadata": {
      "needs_background": "light"
     },
     "output_type": "display_data"
    }
   ],
   "source": [
    "sns.boxplot(df['balance'])\n"
   ]
  },
  {
   "cell_type": "code",
   "execution_count": 24,
   "id": "57690bfd",
   "metadata": {},
   "outputs": [
    {
     "name": "stderr",
     "output_type": "stream",
     "text": [
      "C:\\Users\\Tim\\anaconda3\\lib\\site-packages\\seaborn\\_decorators.py:36: FutureWarning: Pass the following variable as a keyword arg: x. From version 0.12, the only valid positional argument will be `data`, and passing other arguments without an explicit keyword will result in an error or misinterpretation.\n",
      "  warnings.warn(\n"
     ]
    },
    {
     "data": {
      "text/plain": [
       "<AxesSubplot:xlabel='balance'>"
      ]
     },
     "execution_count": 24,
     "metadata": {},
     "output_type": "execute_result"
    },
    {
     "data": {
      "image/png": "[encoded data removed]",
      "text/plain": [
       "<Figure size 432x288 with 1 Axes>"
      ]
     },
     "metadata": {
      "needs_background": "light"
     },
     "output_type": "display_data"
    }
   ],
   "source": [
    "x = df[df['balance'].between(0,3000) ]\n",
    "sns.boxplot(x['balance'])"
   ]
  },
  {
   "cell_type": "markdown",
   "id": "011ce04c",
   "metadata": {},
   "source": [
    "# What these show us\n",
    "\n",
    "The above show the balance of accounts. It shows that the majority of accounts fall between 72-1400. The Boxplot visualizes this extraordinarily well. If you do not take out the outliers you cannot even see the quartiles and mean. The histogram also is a strong visualization showing just how many accounts fall in such a small range.This makes sense as a very small amount of acounts hold a large value. "
   ]
  },
  {
   "cell_type": "markdown",
   "id": "2661eed3",
   "metadata": {},
   "source": [
    "# Age"
   ]
  },
  {
   "cell_type": "code",
   "execution_count": 51,
   "id": "977f5653",
   "metadata": {},
   "outputs": [
    {
     "data": {
      "text/plain": [
       "count    45211.000000\n",
       "mean        40.936210\n",
       "std         10.618762\n",
       "min         18.000000\n",
       "25%         33.000000\n",
       "50%         39.000000\n",
       "75%         48.000000\n",
       "max         95.000000\n",
       "Name: age, dtype: float64"
      ]
     },
     "execution_count": 51,
     "metadata": {},
     "output_type": "execute_result"
    }
   ],
   "source": [
    "df['age'].describe()"
   ]
  },
  {
   "cell_type": "code",
   "execution_count": 54,
   "id": "809485bb",
   "metadata": {},
   "outputs": [
    {
     "data": {
      "text/plain": [
       "<Axes: >"
      ]
     },
     "execution_count": 54,
     "metadata": {},
     "output_type": "execute_result"
    },
    {
     "data": {
      "image/png": "[encoded data removed]",
      "text/plain": [
       "<Figure size 640x480 with 1 Axes>"
      ]
     },
     "metadata": {},
     "output_type": "display_data"
    }
   ],
   "source": [
    "df['age'].hist(bins = 20)"
   ]
  },
  {
   "cell_type": "markdown",
   "id": "6f844990",
   "metadata": {},
   "source": [
    "The majority of targets were between 30 and 40 years old\n",
    "This data is right tailed\n",
    "This seems to make sense based on what you would logically expect from a working population having a bank account (step increase into 30s decrease into retirement)\n"
   ]
  },
  {
   "cell_type": "markdown",
   "id": "fdb06340",
   "metadata": {},
   "source": [
    "# Part II"
   ]
  },
  {
   "cell_type": "markdown",
   "id": "4abf49cd",
   "metadata": {},
   "source": [
    "It is important to think of this from the banks perspective when determining to think of what data  to keep and what data is extraneous. The bank is looking to gain more long term deposit subscribers. They are looking to see how to do that which means they want to know which clients to target for this. It is important to know details like age but it is not important to know a phone number.  This dataset is already fairly clean in that regard and is already a fairly manageable size (45,211 rows, 17 columns). The cleaning for this will consist of managing the NAs, setting dummy variables (there are several yes/no columns), and data type adjustments. The only columns which will be removed are contact duration which seems extraneous without context to the  contact and poutcome as if the previous outcome was a success then we already know they have subscribed. I will also remove 'contact' since it has very little modern relevance. 'NaN in columns Job and Education should be 'unknown' according to the key. '-1' in the pdays column means 'no previous contact' which in this context should be '0'. Therefore I am doing a replace. I want to take a look at contact as both an overall amount and a yes/no value so  I will make a column.      "
   ]
  },
  {
   "cell_type": "code",
   "execution_count": 9,
   "id": "049018e4",
   "metadata": {},
   "outputs": [],
   "source": [
    "\n",
    "def clean_df(df):\n",
    "\n",
    "     #remove columns\n",
    "    df_clean = df.drop(['poutcome','contact','duration','day_of_week'], axis = 'columns')\n",
    "    #fill na with unknown on job and education columns\n",
    "    df_clean[['job','education']] = df_clean[['job','education']].fillna('unknown')\n",
    "    #replace -1 with zero as -1 represents no contaact\n",
    "    df_clean['pdays'] = df_clean['pdays'].replace(-1, 0)\n",
    "    #set previous column to type integer since I was getting an error\n",
    "    df_clean['previous'].astype(int)\n",
    "    #make column identifying if there has ever been engagement\n",
    "    df_clean['pcontact'] =  df_clean['previous'] > 0\n",
    "    return df_clean\n",
    "\n",
    "def dummy_data(clean_dat):\n",
    "    dum_df = pd.get_dummies(clean_dat, drop_first = True)\n",
    "    return dum_df"
   ]
  },
  {
   "cell_type": "code",
   "execution_count": 10,
   "id": "4c97c750",
   "metadata": {},
   "outputs": [
    {
     "data": {
      "text/html": [
       "<div>\n",
       "<style scoped>\n",
       "    .dataframe tbody tr th:only-of-type {\n",
       "        vertical-align: middle;\n",
       "    }\n",
       "\n",
       "    .dataframe tbody tr th {\n",
       "        vertical-align: top;\n",
       "    }\n",
       "\n",
       "    .dataframe thead th {\n",
       "        text-align: right;\n",
       "    }\n",
       "</style>\n",
       "<table border=\"1\" class=\"dataframe\">\n",
       "  <thead>\n",
       "    <tr style=\"text-align: right;\">\n",
       "      <th></th>\n",
       "      <th>age</th>\n",
       "      <th>job</th>\n",
       "      <th>marital</th>\n",
       "      <th>education</th>\n",
       "      <th>default</th>\n",
       "      <th>balance</th>\n",
       "      <th>housing</th>\n",
       "      <th>loan</th>\n",
       "      <th>month</th>\n",
       "      <th>campaign</th>\n",
       "      <th>pdays</th>\n",
       "      <th>previous</th>\n",
       "      <th>y</th>\n",
       "      <th>pcontact</th>\n",
       "    </tr>\n",
       "  </thead>\n",
       "  <tbody>\n",
       "    <tr>\n",
       "      <th>0</th>\n",
       "      <td>58</td>\n",
       "      <td>management</td>\n",
       "      <td>married</td>\n",
       "      <td>tertiary</td>\n",
       "      <td>no</td>\n",
       "      <td>2143</td>\n",
       "      <td>yes</td>\n",
       "      <td>no</td>\n",
       "      <td>may</td>\n",
       "      <td>1</td>\n",
       "      <td>0</td>\n",
       "      <td>0</td>\n",
       "      <td>no</td>\n",
       "      <td>False</td>\n",
       "    </tr>\n",
       "    <tr>\n",
       "      <th>1</th>\n",
       "      <td>44</td>\n",
       "      <td>technician</td>\n",
       "      <td>single</td>\n",
       "      <td>secondary</td>\n",
       "      <td>no</td>\n",
       "      <td>29</td>\n",
       "      <td>yes</td>\n",
       "      <td>no</td>\n",
       "      <td>may</td>\n",
       "      <td>1</td>\n",
       "      <td>0</td>\n",
       "      <td>0</td>\n",
       "      <td>no</td>\n",
       "      <td>False</td>\n",
       "    </tr>\n",
       "    <tr>\n",
       "      <th>2</th>\n",
       "      <td>33</td>\n",
       "      <td>entrepreneur</td>\n",
       "      <td>married</td>\n",
       "      <td>secondary</td>\n",
       "      <td>no</td>\n",
       "      <td>2</td>\n",
       "      <td>yes</td>\n",
       "      <td>yes</td>\n",
       "      <td>may</td>\n",
       "      <td>1</td>\n",
       "      <td>0</td>\n",
       "      <td>0</td>\n",
       "      <td>no</td>\n",
       "      <td>False</td>\n",
       "    </tr>\n",
       "    <tr>\n",
       "      <th>3</th>\n",
       "      <td>47</td>\n",
       "      <td>blue-collar</td>\n",
       "      <td>married</td>\n",
       "      <td>unknown</td>\n",
       "      <td>no</td>\n",
       "      <td>1506</td>\n",
       "      <td>yes</td>\n",
       "      <td>no</td>\n",
       "      <td>may</td>\n",
       "      <td>1</td>\n",
       "      <td>0</td>\n",
       "      <td>0</td>\n",
       "      <td>no</td>\n",
       "      <td>False</td>\n",
       "    </tr>\n",
       "    <tr>\n",
       "      <th>4</th>\n",
       "      <td>33</td>\n",
       "      <td>unknown</td>\n",
       "      <td>single</td>\n",
       "      <td>unknown</td>\n",
       "      <td>no</td>\n",
       "      <td>1</td>\n",
       "      <td>no</td>\n",
       "      <td>no</td>\n",
       "      <td>may</td>\n",
       "      <td>1</td>\n",
       "      <td>0</td>\n",
       "      <td>0</td>\n",
       "      <td>no</td>\n",
       "      <td>False</td>\n",
       "    </tr>\n",
       "    <tr>\n",
       "      <th>...</th>\n",
       "      <td>...</td>\n",
       "      <td>...</td>\n",
       "      <td>...</td>\n",
       "      <td>...</td>\n",
       "      <td>...</td>\n",
       "      <td>...</td>\n",
       "      <td>...</td>\n",
       "      <td>...</td>\n",
       "      <td>...</td>\n",
       "      <td>...</td>\n",
       "      <td>...</td>\n",
       "      <td>...</td>\n",
       "      <td>...</td>\n",
       "      <td>...</td>\n",
       "    </tr>\n",
       "    <tr>\n",
       "      <th>45206</th>\n",
       "      <td>51</td>\n",
       "      <td>technician</td>\n",
       "      <td>married</td>\n",
       "      <td>tertiary</td>\n",
       "      <td>no</td>\n",
       "      <td>825</td>\n",
       "      <td>no</td>\n",
       "      <td>no</td>\n",
       "      <td>nov</td>\n",
       "      <td>3</td>\n",
       "      <td>0</td>\n",
       "      <td>0</td>\n",
       "      <td>yes</td>\n",
       "      <td>False</td>\n",
       "    </tr>\n",
       "    <tr>\n",
       "      <th>45207</th>\n",
       "      <td>71</td>\n",
       "      <td>retired</td>\n",
       "      <td>divorced</td>\n",
       "      <td>primary</td>\n",
       "      <td>no</td>\n",
       "      <td>1729</td>\n",
       "      <td>no</td>\n",
       "      <td>no</td>\n",
       "      <td>nov</td>\n",
       "      <td>2</td>\n",
       "      <td>0</td>\n",
       "      <td>0</td>\n",
       "      <td>yes</td>\n",
       "      <td>False</td>\n",
       "    </tr>\n",
       "    <tr>\n",
       "      <th>45208</th>\n",
       "      <td>72</td>\n",
       "      <td>retired</td>\n",
       "      <td>married</td>\n",
       "      <td>secondary</td>\n",
       "      <td>no</td>\n",
       "      <td>5715</td>\n",
       "      <td>no</td>\n",
       "      <td>no</td>\n",
       "      <td>nov</td>\n",
       "      <td>5</td>\n",
       "      <td>184</td>\n",
       "      <td>3</td>\n",
       "      <td>yes</td>\n",
       "      <td>True</td>\n",
       "    </tr>\n",
       "    <tr>\n",
       "      <th>45209</th>\n",
       "      <td>57</td>\n",
       "      <td>blue-collar</td>\n",
       "      <td>married</td>\n",
       "      <td>secondary</td>\n",
       "      <td>no</td>\n",
       "      <td>668</td>\n",
       "      <td>no</td>\n",
       "      <td>no</td>\n",
       "      <td>nov</td>\n",
       "      <td>4</td>\n",
       "      <td>0</td>\n",
       "      <td>0</td>\n",
       "      <td>no</td>\n",
       "      <td>False</td>\n",
       "    </tr>\n",
       "    <tr>\n",
       "      <th>45210</th>\n",
       "      <td>37</td>\n",
       "      <td>entrepreneur</td>\n",
       "      <td>married</td>\n",
       "      <td>secondary</td>\n",
       "      <td>no</td>\n",
       "      <td>2971</td>\n",
       "      <td>no</td>\n",
       "      <td>no</td>\n",
       "      <td>nov</td>\n",
       "      <td>2</td>\n",
       "      <td>188</td>\n",
       "      <td>11</td>\n",
       "      <td>no</td>\n",
       "      <td>True</td>\n",
       "    </tr>\n",
       "  </tbody>\n",
       "</table>\n",
       "<p>45211 rows × 14 columns</p>\n",
       "</div>"
      ],
      "text/plain": [
       "       age           job   marital  education default  balance housing loan  \\\n",
       "0       58    management   married   tertiary      no     2143     yes   no   \n",
       "1       44    technician    single  secondary      no       29     yes   no   \n",
       "2       33  entrepreneur   married  secondary      no        2     yes  yes   \n",
       "3       47   blue-collar   married    unknown      no     1506     yes   no   \n",
       "4       33       unknown    single    unknown      no        1      no   no   \n",
       "...    ...           ...       ...        ...     ...      ...     ...  ...   \n",
       "45206   51    technician   married   tertiary      no      825      no   no   \n",
       "45207   71       retired  divorced    primary      no     1729      no   no   \n",
       "45208   72       retired   married  secondary      no     5715      no   no   \n",
       "45209   57   blue-collar   married  secondary      no      668      no   no   \n",
       "45210   37  entrepreneur   married  secondary      no     2971      no   no   \n",
       "\n",
       "      month  campaign  pdays  previous    y  pcontact  \n",
       "0       may         1      0         0   no     False  \n",
       "1       may         1      0         0   no     False  \n",
       "2       may         1      0         0   no     False  \n",
       "3       may         1      0         0   no     False  \n",
       "4       may         1      0         0   no     False  \n",
       "...     ...       ...    ...       ...  ...       ...  \n",
       "45206   nov         3      0         0  yes     False  \n",
       "45207   nov         2      0         0  yes     False  \n",
       "45208   nov         5    184         3  yes      True  \n",
       "45209   nov         4      0         0   no     False  \n",
       "45210   nov         2    188        11   no      True  \n",
       "\n",
       "[45211 rows x 14 columns]"
      ]
     },
     "execution_count": 10,
     "metadata": {},
     "output_type": "execute_result"
    }
   ],
   "source": [
    "clean_df(df)"
   ]
  },
  {
   "cell_type": "code",
   "execution_count": 11,
   "id": "daf32abb",
   "metadata": {},
   "outputs": [],
   "source": [
    "clean = clean_df(df)"
   ]
  },
  {
   "cell_type": "code",
   "execution_count": 12,
   "id": "9dddd477",
   "metadata": {},
   "outputs": [
    {
     "data": {
      "text/html": [
       "<div>\n",
       "<style scoped>\n",
       "    .dataframe tbody tr th:only-of-type {\n",
       "        vertical-align: middle;\n",
       "    }\n",
       "\n",
       "    .dataframe tbody tr th {\n",
       "        vertical-align: top;\n",
       "    }\n",
       "\n",
       "    .dataframe thead th {\n",
       "        text-align: right;\n",
       "    }\n",
       "</style>\n",
       "<table border=\"1\" class=\"dataframe\">\n",
       "  <thead>\n",
       "    <tr style=\"text-align: right;\">\n",
       "      <th></th>\n",
       "      <th>age</th>\n",
       "      <th>job</th>\n",
       "      <th>marital</th>\n",
       "      <th>education</th>\n",
       "      <th>default</th>\n",
       "      <th>balance</th>\n",
       "      <th>housing</th>\n",
       "      <th>loan</th>\n",
       "      <th>month</th>\n",
       "      <th>campaign</th>\n",
       "      <th>pdays</th>\n",
       "      <th>previous</th>\n",
       "      <th>y</th>\n",
       "      <th>pcontact</th>\n",
       "    </tr>\n",
       "  </thead>\n",
       "  <tbody>\n",
       "    <tr>\n",
       "      <th>0</th>\n",
       "      <td>58</td>\n",
       "      <td>management</td>\n",
       "      <td>married</td>\n",
       "      <td>tertiary</td>\n",
       "      <td>no</td>\n",
       "      <td>2143</td>\n",
       "      <td>yes</td>\n",
       "      <td>no</td>\n",
       "      <td>may</td>\n",
       "      <td>1</td>\n",
       "      <td>0</td>\n",
       "      <td>0</td>\n",
       "      <td>no</td>\n",
       "      <td>False</td>\n",
       "    </tr>\n",
       "    <tr>\n",
       "      <th>1</th>\n",
       "      <td>44</td>\n",
       "      <td>technician</td>\n",
       "      <td>single</td>\n",
       "      <td>secondary</td>\n",
       "      <td>no</td>\n",
       "      <td>29</td>\n",
       "      <td>yes</td>\n",
       "      <td>no</td>\n",
       "      <td>may</td>\n",
       "      <td>1</td>\n",
       "      <td>0</td>\n",
       "      <td>0</td>\n",
       "      <td>no</td>\n",
       "      <td>False</td>\n",
       "    </tr>\n",
       "    <tr>\n",
       "      <th>2</th>\n",
       "      <td>33</td>\n",
       "      <td>entrepreneur</td>\n",
       "      <td>married</td>\n",
       "      <td>secondary</td>\n",
       "      <td>no</td>\n",
       "      <td>2</td>\n",
       "      <td>yes</td>\n",
       "      <td>yes</td>\n",
       "      <td>may</td>\n",
       "      <td>1</td>\n",
       "      <td>0</td>\n",
       "      <td>0</td>\n",
       "      <td>no</td>\n",
       "      <td>False</td>\n",
       "    </tr>\n",
       "    <tr>\n",
       "      <th>3</th>\n",
       "      <td>47</td>\n",
       "      <td>blue-collar</td>\n",
       "      <td>married</td>\n",
       "      <td>unknown</td>\n",
       "      <td>no</td>\n",
       "      <td>1506</td>\n",
       "      <td>yes</td>\n",
       "      <td>no</td>\n",
       "      <td>may</td>\n",
       "      <td>1</td>\n",
       "      <td>0</td>\n",
       "      <td>0</td>\n",
       "      <td>no</td>\n",
       "      <td>False</td>\n",
       "    </tr>\n",
       "    <tr>\n",
       "      <th>4</th>\n",
       "      <td>33</td>\n",
       "      <td>unknown</td>\n",
       "      <td>single</td>\n",
       "      <td>unknown</td>\n",
       "      <td>no</td>\n",
       "      <td>1</td>\n",
       "      <td>no</td>\n",
       "      <td>no</td>\n",
       "      <td>may</td>\n",
       "      <td>1</td>\n",
       "      <td>0</td>\n",
       "      <td>0</td>\n",
       "      <td>no</td>\n",
       "      <td>False</td>\n",
       "    </tr>\n",
       "    <tr>\n",
       "      <th>...</th>\n",
       "      <td>...</td>\n",
       "      <td>...</td>\n",
       "      <td>...</td>\n",
       "      <td>...</td>\n",
       "      <td>...</td>\n",
       "      <td>...</td>\n",
       "      <td>...</td>\n",
       "      <td>...</td>\n",
       "      <td>...</td>\n",
       "      <td>...</td>\n",
       "      <td>...</td>\n",
       "      <td>...</td>\n",
       "      <td>...</td>\n",
       "      <td>...</td>\n",
       "    </tr>\n",
       "    <tr>\n",
       "      <th>45206</th>\n",
       "      <td>51</td>\n",
       "      <td>technician</td>\n",
       "      <td>married</td>\n",
       "      <td>tertiary</td>\n",
       "      <td>no</td>\n",
       "      <td>825</td>\n",
       "      <td>no</td>\n",
       "      <td>no</td>\n",
       "      <td>nov</td>\n",
       "      <td>3</td>\n",
       "      <td>0</td>\n",
       "      <td>0</td>\n",
       "      <td>yes</td>\n",
       "      <td>False</td>\n",
       "    </tr>\n",
       "    <tr>\n",
       "      <th>45207</th>\n",
       "      <td>71</td>\n",
       "      <td>retired</td>\n",
       "      <td>divorced</td>\n",
       "      <td>primary</td>\n",
       "      <td>no</td>\n",
       "      <td>1729</td>\n",
       "      <td>no</td>\n",
       "      <td>no</td>\n",
       "      <td>nov</td>\n",
       "      <td>2</td>\n",
       "      <td>0</td>\n",
       "      <td>0</td>\n",
       "      <td>yes</td>\n",
       "      <td>False</td>\n",
       "    </tr>\n",
       "    <tr>\n",
       "      <th>45208</th>\n",
       "      <td>72</td>\n",
       "      <td>retired</td>\n",
       "      <td>married</td>\n",
       "      <td>secondary</td>\n",
       "      <td>no</td>\n",
       "      <td>5715</td>\n",
       "      <td>no</td>\n",
       "      <td>no</td>\n",
       "      <td>nov</td>\n",
       "      <td>5</td>\n",
       "      <td>184</td>\n",
       "      <td>3</td>\n",
       "      <td>yes</td>\n",
       "      <td>True</td>\n",
       "    </tr>\n",
       "    <tr>\n",
       "      <th>45209</th>\n",
       "      <td>57</td>\n",
       "      <td>blue-collar</td>\n",
       "      <td>married</td>\n",
       "      <td>secondary</td>\n",
       "      <td>no</td>\n",
       "      <td>668</td>\n",
       "      <td>no</td>\n",
       "      <td>no</td>\n",
       "      <td>nov</td>\n",
       "      <td>4</td>\n",
       "      <td>0</td>\n",
       "      <td>0</td>\n",
       "      <td>no</td>\n",
       "      <td>False</td>\n",
       "    </tr>\n",
       "    <tr>\n",
       "      <th>45210</th>\n",
       "      <td>37</td>\n",
       "      <td>entrepreneur</td>\n",
       "      <td>married</td>\n",
       "      <td>secondary</td>\n",
       "      <td>no</td>\n",
       "      <td>2971</td>\n",
       "      <td>no</td>\n",
       "      <td>no</td>\n",
       "      <td>nov</td>\n",
       "      <td>2</td>\n",
       "      <td>188</td>\n",
       "      <td>11</td>\n",
       "      <td>no</td>\n",
       "      <td>True</td>\n",
       "    </tr>\n",
       "  </tbody>\n",
       "</table>\n",
       "<p>45211 rows × 14 columns</p>\n",
       "</div>"
      ],
      "text/plain": [
       "       age           job   marital  education default  balance housing loan  \\\n",
       "0       58    management   married   tertiary      no     2143     yes   no   \n",
       "1       44    technician    single  secondary      no       29     yes   no   \n",
       "2       33  entrepreneur   married  secondary      no        2     yes  yes   \n",
       "3       47   blue-collar   married    unknown      no     1506     yes   no   \n",
       "4       33       unknown    single    unknown      no        1      no   no   \n",
       "...    ...           ...       ...        ...     ...      ...     ...  ...   \n",
       "45206   51    technician   married   tertiary      no      825      no   no   \n",
       "45207   71       retired  divorced    primary      no     1729      no   no   \n",
       "45208   72       retired   married  secondary      no     5715      no   no   \n",
       "45209   57   blue-collar   married  secondary      no      668      no   no   \n",
       "45210   37  entrepreneur   married  secondary      no     2971      no   no   \n",
       "\n",
       "      month  campaign  pdays  previous    y  pcontact  \n",
       "0       may         1      0         0   no     False  \n",
       "1       may         1      0         0   no     False  \n",
       "2       may         1      0         0   no     False  \n",
       "3       may         1      0         0   no     False  \n",
       "4       may         1      0         0   no     False  \n",
       "...     ...       ...    ...       ...  ...       ...  \n",
       "45206   nov         3      0         0  yes     False  \n",
       "45207   nov         2      0         0  yes     False  \n",
       "45208   nov         5    184         3  yes      True  \n",
       "45209   nov         4      0         0   no     False  \n",
       "45210   nov         2    188        11   no      True  \n",
       "\n",
       "[45211 rows x 14 columns]"
      ]
     },
     "execution_count": 12,
     "metadata": {},
     "output_type": "execute_result"
    }
   ],
   "source": [
    "clean"
   ]
  },
  {
   "cell_type": "code",
   "execution_count": 13,
   "id": "ba5903c0-da8d-43ea-b4fc-7659a4567ccb",
   "metadata": {},
   "outputs": [],
   "source": [
    "model_data = dummy_data(clean)"
   ]
  },
  {
   "cell_type": "code",
   "execution_count": 62,
   "id": "8c35ad45-d672-4b44-81ab-35e9fa56e302",
   "metadata": {},
   "outputs": [
    {
     "name": "stdout",
     "output_type": "stream",
     "text": [
      "<class 'pandas.core.frame.DataFrame'>\n",
      "RangeIndex: 45211 entries, 0 to 45210\n",
      "Data columns (total 37 columns):\n",
      " #   Column               Non-Null Count  Dtype\n",
      "---  ------               --------------  -----\n",
      " 0   age                  45211 non-null  int64\n",
      " 1   balance              45211 non-null  int64\n",
      " 2   campaign             45211 non-null  int64\n",
      " 3   pdays                45211 non-null  int64\n",
      " 4   previous             45211 non-null  int64\n",
      " 5   pcontact             45211 non-null  bool \n",
      " 6   job_blue-collar      45211 non-null  bool \n",
      " 7   job_entrepreneur     45211 non-null  bool \n",
      " 8   job_housemaid        45211 non-null  bool \n",
      " 9   job_management       45211 non-null  bool \n",
      " 10  job_retired          45211 non-null  bool \n",
      " 11  job_self-employed    45211 non-null  bool \n",
      " 12  job_services         45211 non-null  bool \n",
      " 13  job_student          45211 non-null  bool \n",
      " 14  job_technician       45211 non-null  bool \n",
      " 15  job_unemployed       45211 non-null  bool \n",
      " 16  job_unknown          45211 non-null  bool \n",
      " 17  marital_married      45211 non-null  bool \n",
      " 18  marital_single       45211 non-null  bool \n",
      " 19  education_secondary  45211 non-null  bool \n",
      " 20  education_tertiary   45211 non-null  bool \n",
      " 21  education_unknown    45211 non-null  bool \n",
      " 22  default_yes          45211 non-null  bool \n",
      " 23  housing_yes          45211 non-null  bool \n",
      " 24  loan_yes             45211 non-null  bool \n",
      " 25  month_aug            45211 non-null  bool \n",
      " 26  month_dec            45211 non-null  bool \n",
      " 27  month_feb            45211 non-null  bool \n",
      " 28  month_jan            45211 non-null  bool \n",
      " 29  month_jul            45211 non-null  bool \n",
      " 30  month_jun            45211 non-null  bool \n",
      " 31  month_mar            45211 non-null  bool \n",
      " 32  month_may            45211 non-null  bool \n",
      " 33  month_nov            45211 non-null  bool \n",
      " 34  month_oct            45211 non-null  bool \n",
      " 35  month_sep            45211 non-null  bool \n",
      " 36  y_yes                45211 non-null  bool \n",
      "dtypes: bool(32), int64(5)\n",
      "memory usage: 3.1 MB\n"
     ]
    }
   ],
   "source": [
    "model_data.info()"
   ]
  },
  {
   "cell_type": "markdown",
   "id": "a8443463-7fd0-4468-95f2-09b5a6eca11d",
   "metadata": {},
   "source": [
    "# Applying a model"
   ]
  },
  {
   "cell_type": "code",
   "execution_count": 14,
   "id": "66eab57c-c1a4-47ba-bb5b-e7be92503093",
   "metadata": {},
   "outputs": [],
   "source": [
    "from sklearn.model_selection import train_test_split\n",
    "from sklearn.linear_model import LogisticRegression\n",
    "from sklearn.metrics import confusion_matrix,classification_report\n",
    "from sklearn.metrics import ConfusionMatrixDisplay\n"
   ]
  },
  {
   "cell_type": "code",
   "execution_count": 15,
   "id": "7a9da572-0e84-47a6-a1c1-47745c5f7d05",
   "metadata": {},
   "outputs": [],
   "source": [
    "\n",
    "#selecting data\n",
    "x = model_data.iloc[:, : 24]\n",
    "y = model_data['y_yes']\n",
    "\n",
    "#splitting data into test and train\n",
    "x_train, x_test, y_train, y_test = train_test_split(x, y, test_size = 0.3)\n",
    "\n",
    "\n",
    "#creating logistic regression\n",
    "model = LogisticRegression(solver='lbfgs', max_iter=400)\n",
    "model.fit(x_train, y_train)\n",
    "predictions = model.predict(x_test)"
   ]
  },
  {
   "cell_type": "code",
   "execution_count": 75,
   "id": "b58a72ba-8d08-4d71-8320-f44d44d99571",
   "metadata": {},
   "outputs": [
    {
     "name": "stdout",
     "output_type": "stream",
     "text": [
      "              precision    recall  f1-score   support\n",
      "\n",
      "       False       0.88      1.00      0.94     11960\n",
      "        True       0.36      0.01      0.01      1604\n",
      "\n",
      "    accuracy                           0.88     13564\n",
      "   macro avg       0.62      0.50      0.47     13564\n",
      "weighted avg       0.82      0.88      0.83     13564\n",
      "\n"
     ]
    }
   ],
   "source": [
    "print(classification_report(y_test, predictions))"
   ]
  },
  {
   "cell_type": "code",
   "execution_count": 16,
   "id": "ebd25e52-eecc-4c2c-93d8-c835635dd59a",
   "metadata": {},
   "outputs": [],
   "source": [
    "cm = confusion_matrix(y_test,predictions)"
   ]
  },
  {
   "cell_type": "code",
   "execution_count": 17,
   "id": "c99b5246-b571-4880-a512-17ed594ef3e3",
   "metadata": {},
   "outputs": [
    {
     "data": {
      "text/plain": [
       "array([[11962,    62],\n",
       "       [ 1496,    44]], dtype=int64)"
      ]
     },
     "execution_count": 17,
     "metadata": {},
     "output_type": "execute_result"
    }
   ],
   "source": [
    "cm"
   ]
  },
  {
   "cell_type": "code",
   "execution_count": 18,
   "id": "b34f9846-f618-468b-991a-412c0517e9ef",
   "metadata": {},
   "outputs": [
    {
     "data": {
      "image/png": "[encoded data removed]",
      "text/plain": [
       "<Figure size 640x480 with 2 Axes>"
      ]
     },
     "metadata": {},
     "output_type": "display_data"
    }
   ],
   "source": [
    "vis = ConfusionMatrixDisplay(confusion_matrix=cm, display_labels=model.classes_)\n",
    "vis.plot()\n",
    "plt.show()"
   ]
  },
  {
   "cell_type": "markdown",
   "id": "52c7402d-ff0a-4c35-aa07-0ff95c43a81d",
   "metadata": {},
   "source": [
    "Based on the evidence above I would say the model is not very good. We are trying to accurately predict if someone will subscribe to a service (we want to have extreme accuracy in predictions of 'True'). There were 62 True Positives and 4 Trues that were actually Negatives. This also could be just because the sample size of subscriptions is small. As sample size decreases the accuracy of the model would decrease. "
   ]
  },
  {
   "cell_type": "markdown",
   "id": "bb62f178-f515-4b06-af2f-807b71ea3bf1",
   "metadata": {},
   "source": [
    "# Oversampling Correction"
   ]
  },
  {
   "cell_type": "code",
   "execution_count": 59,
   "id": "3095d18a-e63a-4de5-a36e-339f8296a1f5",
   "metadata": {},
   "outputs": [
    {
     "data": {
      "text/plain": [
       "<Axes: ylabel='count'>"
      ]
     },
     "execution_count": 59,
     "metadata": {},
     "output_type": "execute_result"
    },
    {
     "data": {
      "image/png": "[encoded data removed]",
      "text/plain": [
       "<Figure size 640x480 with 1 Axes>"
      ]
     },
     "metadata": {},
     "output_type": "display_data"
    }
   ],
   "source": [
    "#Show of current breakdown\n",
    "y.value_counts().plot.pie(autopct='%.2f')"
   ]
  },
  {
   "cell_type": "code",
   "execution_count": 60,
   "id": "d8ce80fd-ff51-426e-a80d-a4b22ae1d943",
   "metadata": {},
   "outputs": [
    {
     "data": {
      "text/plain": [
       "<Axes: ylabel='count'>"
      ]
     },
     "execution_count": 60,
     "metadata": {},
     "output_type": "execute_result"
    },
    {
     "data": {
      "image/png": "[encoded data removed]",
      "text/plain": [
       "<Figure size 640x480 with 1 Axes>"
      ]
     },
     "metadata": {},
     "output_type": "display_data"
    }
   ],
   "source": [
    "#Import package\n",
    "from imblearn.over_sampling import SMOTE\n",
    "#use smote to rebalance\n",
    "smote=SMOTE(sampling_strategy='minority') \n",
    "x_res_smote,y_res_smote=smote.fit_resample(x,y)\n",
    "#show result\n",
    "y_res.value_counts().plot.pie(autopct='%.2f')"
   ]
  },
  {
   "cell_type": "code",
   "execution_count": 41,
   "id": "a35fea98-b7a3-4cc4-b028-6366a8d70ad0",
   "metadata": {},
   "outputs": [
    {
     "name": "stderr",
     "output_type": "stream",
     "text": [
      "C:\\Users\\Tim\\anaconda3\\NewAnaconda\\Lib\\site-packages\\sklearn\\linear_model\\_logistic.py:458: ConvergenceWarning: lbfgs failed to converge (status=1):\n",
      "STOP: TOTAL NO. of ITERATIONS REACHED LIMIT.\n",
      "\n",
      "Increase the number of iterations (max_iter) or scale the data as shown in:\n",
      "    https://scikit-learn.org/stable/modules/preprocessing.html\n",
      "Please also refer to the documentation for alternative solver options:\n",
      "    https://scikit-learn.org/stable/modules/linear_model.html#logistic-regression\n",
      "  n_iter_i = _check_optimize_result(\n"
     ]
    }
   ],
   "source": [
    "#Smote sampling model\n",
    "#splitting data into test and train\n",
    "x_train, x_test, y_train, y_test = train_test_split(x_res_smote, y_res_smote, test_size = 0.3)\n",
    "\n",
    "\n",
    "#creating logistic regression\n",
    "model = LogisticRegression(solver='lbfgs', max_iter=400)\n",
    "model.fit(x_train, y_train)\n",
    "predictions = model.predict(x_test)"
   ]
  },
  {
   "cell_type": "code",
   "execution_count": 42,
   "id": "f8d4f8dc-b519-4d4c-a451-26a95ba95382",
   "metadata": {},
   "outputs": [
    {
     "name": "stdout",
     "output_type": "stream",
     "text": [
      "              precision    recall  f1-score   support\n",
      "\n",
      "       False       0.83      0.85      0.84     11986\n",
      "        True       0.85      0.82      0.83     11968\n",
      "\n",
      "    accuracy                           0.84     23954\n",
      "   macro avg       0.84      0.84      0.84     23954\n",
      "weighted avg       0.84      0.84      0.84     23954\n",
      "\n"
     ]
    }
   ],
   "source": [
    "print(classification_report(y_test, predictions))"
   ]
  },
  {
   "cell_type": "code",
   "execution_count": 43,
   "id": "7a9c4a41-8999-4cc6-b067-a042a190404b",
   "metadata": {},
   "outputs": [
    {
     "data": {
      "image/png": "[encoded data removed]",
      "text/plain": [
       "<Figure size 640x480 with 2 Axes>"
      ]
     },
     "metadata": {},
     "output_type": "display_data"
    }
   ],
   "source": [
    "vis = ConfusionMatrixDisplay(confusion_matrix=cm, display_labels=model.classes_)\n",
    "vis.plot()\n",
    "plt.show()"
   ]
  },
  {
   "cell_type": "code",
   "execution_count": 50,
   "id": "e9c9638b-188a-41da-a66d-e3adbf3a7f90",
   "metadata": {},
   "outputs": [
    {
     "data": {
      "image/png": "[encoded data removed]",
      "text/plain": [
       "<Figure size 640x480 with 1 Axes>"
      ]
     },
     "metadata": {},
     "output_type": "display_data"
    }
   ],
   "source": [
    "from sklearn import metrics\n",
    "y_pred_proba = model.predict_proba(x_test)[::,1]\n",
    "fpr, tpr, _ = metrics.roc_curve(y_test,  y_pred_proba)\n",
    "auc = metrics.roc_auc_score(y_test, y_pred_proba)\n",
    "\n",
    "#create ROC curve\n",
    "plt.plot(fpr,tpr,label=\"AUC=\"+str(auc))\n",
    "plt.legend(loc=4)\n",
    "plt.show()"
   ]
  },
  {
   "cell_type": "markdown",
   "id": "d514bb68-2568-4f28-b588-2202b48338d2",
   "metadata": {},
   "source": [
    "\n",
    "# Conclusion:\n",
    "\n",
    "\n",
    "\n",
    "This model did not turn out the way I intended it to. I tried various methods to sort variables by importance and none of them worked out the way I wanted to. I tried using p-values by using sm_model.summary but it didn’t work out. I also tried a method used on Medium which used the math package to pull coefficients. The writers summary suggested that if the customer was a repeat customer as well as had a higher balance they were more likely to subscribe to a long-term deposit. The writer on Medium also used a method to address Over/undersampling that I did not think of involving using a loop to iterate through different levels of sampling to determine the ideal (which was found to be oversampling at 120%). \n",
    "\n",
    "Overall I found that my model was still effective. The precision on the True and False was within reason and the ROC curve was exceptional. It is theoretically a useable model.    \n"
   ]
  },
  {
   "cell_type": "code",
   "execution_count": null,
   "id": "db2a5b19-eafe-4045-8006-19e11ee71bf1",
   "metadata": {},
   "outputs": [],
   "source": []
  }
 ],
 "metadata": {
  "kernelspec": {
   "display_name": "Python 3 (ipykernel)",
   "language": "python",
   "name": "python3"
  },
  "language_info": {
   "codemirror_mode": {
    "name": "ipython",
    "version": 3
   },
   "file_extension": ".py",
   "mimetype": "text/x-python",
   "name": "python",
   "nbconvert_exporter": "python",
   "pygments_lexer": "ipython3",
   "version": "3.11.7"
  }
 },
 "nbformat": 4,
 "nbformat_minor": 5
}
